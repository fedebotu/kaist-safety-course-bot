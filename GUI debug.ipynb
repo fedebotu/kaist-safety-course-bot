{
 "cells": [
  {
   "cell_type": "markdown",
   "metadata": {},
   "source": [
    "# KAIST Safety Course Automatic Viewer\n",
    "\n",
    "This notebook makes viewing the (quite annoying) lab safety videos automatic, so you don't have to click many times on the videos that you need to see to complete the course :D\n"
   ]
  },
  {
   "cell_type": "markdown",
   "metadata": {},
   "source": [
    "# Debug"
   ]
  },
  {
   "cell_type": "code",
   "execution_count": 1,
   "metadata": {},
   "outputs": [],
   "source": [
    "%load_ext autoreload\n",
    "%autoreload 2\n",
    "\n",
    "from selenium import webdriver\n",
    "from selenium.webdriver.support.ui import WebDriverWait\n",
    "from selenium.webdriver.support import expected_conditions as EC\n",
    "from selenium.webdriver.common.by import By\n",
    "from selenium.webdriver.chrome.service import Service\n",
    "\n",
    "# from kaist.video import watch_lessons, page_to_functions\n",
    "# from kaist.quiz import run_quiz\n",
    "# from kaist.login import portal_login\n",
    "# from kaist.config import input_config\n",
    "# from kaist.common import save_debug, alert_accept, check_education_end"
   ]
  },
  {
   "cell_type": "code",
   "execution_count": 2,
   "metadata": {},
   "outputs": [],
   "source": [
    "from kaist.navigation.webdriver import setup_webdriver\n",
    "from kaist.utils import ThreadWithException\n",
    "\n"
   ]
  },
  {
   "cell_type": "code",
   "execution_count": 11,
   "metadata": {},
   "outputs": [
    {
     "name": "stdout",
     "output_type": "stream",
     "text": [
      "\n"
     ]
    },
    {
     "name": "stderr",
     "output_type": "stream",
     "text": [
      "[WDM] - ====== WebDriver manager ======\n"
     ]
    }
   ],
   "source": [
    "thread = ThreadWithException(target=setup_webdriver, args='firefox')\n",
    "thread.start()"
   ]
  },
  {
   "cell_type": "code",
   "execution_count": 32,
   "metadata": {},
   "outputs": [
    {
     "data": {
      "text/plain": [
       "False"
      ]
     },
     "execution_count": 32,
     "metadata": {},
     "output_type": "execute_result"
    }
   ],
   "source": [
    "thread.is_alive()"
   ]
  },
  {
   "cell_type": "code",
   "execution_count": 33,
   "metadata": {},
   "outputs": [
    {
     "name": "stdout",
     "output_type": "stream",
     "text": [
      "None\n"
     ]
    }
   ],
   "source": [
    "print(thread.value)"
   ]
  },
  {
   "cell_type": "code",
   "execution_count": 17,
   "metadata": {},
   "outputs": [
    {
     "name": "stdout",
     "output_type": "stream",
     "text": [
      "None\n"
     ]
    }
   ],
   "source": [
    "print(thread.join())"
   ]
  },
  {
   "cell_type": "code",
   "execution_count": 8,
   "metadata": {},
   "outputs": [],
   "source": [
    "import PySimpleGUI as sg"
   ]
  },
  {
   "cell_type": "code",
   "execution_count": 12,
   "metadata": {},
   "outputs": [
    {
     "ename": "SyntaxError",
     "evalue": "incomplete input (4245984014.py, line 46)",
     "output_type": "error",
     "traceback": [
      "\u001b[0;36m  Input \u001b[0;32mIn [12]\u001b[0;36m\u001b[0m\n\u001b[0;31m    sg.Text(' ' * 40), sg.Button('SaveSettings'), sg.Button('LoadSettings')]\u001b[0m\n\u001b[0m                                                                            ^\u001b[0m\n\u001b[0;31mSyntaxError\u001b[0m\u001b[0;31m:\u001b[0m incomplete input\n"
     ]
    }
   ],
   "source": [
    "sg.theme('TanBlue')\n",
    "\n",
    "column1 = [\n",
    "    [sg.Text('Column 1', background_color=sg.DEFAULT_BACKGROUND_COLOR,\n",
    "            justification='center', size=(10, 1))],\n",
    "    [sg.Spin(values=('Spin Box 1', '2', '3'),\n",
    "                initial_value='Spin Box 1', key='spin1')],\n",
    "    [sg.Spin(values=('Spin Box 1', '2', '3'),\n",
    "                initial_value='Spin Box 2', key='spin2')],\n",
    "    [sg.Spin(values=('Spin Box 1', '2', '3'), initial_value='Spin Box 3', key='spin3')]]\n",
    "\n",
    "layout = [\n",
    "    [sg.Text('All graphic widgets in one form!', size=(30, 1), font=(\"Helvetica\", 25))],\n",
    "    [sg.Text('Here is some text.... and a place to enter text')],\n",
    "    [sg.InputText('This is my text', key='in1')],\n",
    "    [sg.CBox('Checkbox', key='cb1'), sg.CBox(\n",
    "        'My second checkbox!', key='cb2', default=True)],\n",
    "    [sg.Radio('My first Radio!     ', \"RADIO1\", key='rad1', default=True),\n",
    "        sg.Radio('My second Radio!', \"RADIO1\", key='rad2')],\n",
    "    [sg.MLine(default_text='This is the default Text should you decide not to type anything', size=(35, 3),\n",
    "                key='multi1'),\n",
    "        sg.MLine(default_text='A second multi-line', size=(35, 3), key='multi2')],\n",
    "    [sg.Combo(('Combobox 1', 'Combobox 2'), key='combo', size=(20, 1)),\n",
    "        sg.Slider(range=(1, 100), orientation='h', size=(34, 20), key='slide1', default_value=85)],\n",
    "    [sg.OptionMenu(('Menu Option 1', 'Menu Option 2',\n",
    "                        'Menu Option 3'), key='optionmenu')],\n",
    "    [sg.Listbox(values=('Listbox 1', 'Listbox 2', 'Listbox 3'), size=(30, 3), key='listbox'),\n",
    "        sg.Slider(range=(1, 100),\n",
    "                orientation='v',\n",
    "                size=(5, 20),\n",
    "                default_value=25, key='slide2', ),\n",
    "        sg.Slider(range=(1, 100),\n",
    "                orientation='v',\n",
    "                size=(5, 20),\n",
    "                default_value=75, key='slide3', ),\n",
    "        sg.Slider(range=(1, 100),\n",
    "                orientation='v',\n",
    "                size=(5, 20),\n",
    "                default_value=10, key='slide4'),\n",
    "        sg.Col(column1, background_color='gray34')],\n",
    "    [sg.Text('_' * 80)],\n",
    "    [sg.Text('Choose A Folder', size=(35, 1))],\n",
    "    [sg.Text('Your Folder', size=(15, 1), justification='right'),\n",
    "        sg.InputText('Default Folder', key='folder'), sg.FolderBrowse()],\n",
    "    [sg.Button('Exit'),\n",
    "        sg.Text(' ' * 40), sg.Button('SaveSettings'), sg.Button('LoadSettings')]"
   ]
  }
 ],
 "metadata": {
  "kernelspec": {
   "display_name": "Python 3.6.9 64-bit",
   "language": "python",
   "name": "python3"
  },
  "language_info": {
   "codemirror_mode": {
    "name": "ipython",
    "version": 3
   },
   "file_extension": ".py",
   "mimetype": "text/x-python",
   "name": "python",
   "nbconvert_exporter": "python",
   "pygments_lexer": "ipython3",
   "version": "3.10.4"
  },
  "orig_nbformat": 4,
  "vscode": {
   "interpreter": {
    "hash": "31f2aee4e71d21fbe5cf8b01ff0e069b9275f58929596ceb00d14d90e3e16cd6"
   }
  }
 },
 "nbformat": 4,
 "nbformat_minor": 2
}
