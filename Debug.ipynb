{
 "cells": [
  {
   "cell_type": "markdown",
   "metadata": {},
   "source": [
    "# KAIST Safety Course Automatic Viewer\n",
    "\n",
    "This notebook makes viewing the (quite annoying) lab safety videos automatic, so you don't have to click many times on the videos that you need to see to complete the course :D\n"
   ]
  },
  {
   "cell_type": "markdown",
   "metadata": {},
   "source": [
    "# Debug"
   ]
  },
  {
   "cell_type": "code",
   "execution_count": 1,
   "metadata": {},
   "outputs": [],
   "source": [
    "%load_ext autoreload\n",
    "%autoreload 2\n",
    "\n",
    "from selenium import webdriver\n",
    "from selenium.webdriver.support.ui import WebDriverWait\n",
    "from selenium.webdriver.support import expected_conditions as EC\n",
    "from selenium.webdriver.common.by import By\n",
    "from selenium.webdriver.chrome.service import Service\n",
    "\n",
    "from kaist.video import watch_lessons, page_to_functions\n",
    "from kaist.quiz import run_quiz\n",
    "from kaist.login import portal_login\n",
    "from kaist.config import input_config\n",
    "from kaist.common import save_debug, alert_accept, check_education_end"
   ]
  },
  {
   "cell_type": "code",
   "execution_count": 2,
   "metadata": {},
   "outputs": [
    {
     "name": "stdout",
     "output_type": "stream",
     "text": [
      "KAIST username:  (Press ENTER for default: botussi): Video ID:  (Press ENTER for default: 1): Answer quiz?\n",
      "NOTE: this will try to answer the quiz many times iteratively until solved,                 we assume to have unlimited retries. Do at your own risk ;D (Press ENTER for default: y): Use other default values?  (Press ENTER for default: y): Authenticate login with your phone. Alternatively, you can use the opened browser to navigate.\n",
      "Waiting for login... Will timeout after 60 seconds\n"
     ]
    }
   ],
   "source": [
    "config = input_config()\n",
    "\n",
    "# Call the driver and page\n",
    "driver = webdriver.Chrome(service=Service(config['driver_path']))\n",
    "driver.get(config['target_webpage'])\n",
    "\n",
    "   # Login into KAIST\n",
    "portal_login(driver, config['username'])\n",
    "\n",
    "\n",
    "# except Exception as e:\n",
    "#     print('An exception occurred during the program run:\\n {}\\nSaving debug.html...'.format(e))\n",
    "#     save_debug(driver)b\n"
   ]
  },
  {
   "cell_type": "code",
   "execution_count": 3,
   "metadata": {},
   "outputs": [
    {
     "name": "stdout",
     "output_type": "stream",
     "text": [
      "Waiting for the button to be visible... You may need to maximize the window\n"
     ]
    }
   ],
   "source": [
    "\n",
    "# Maximize window and open safety course page\n",
    "print('Waiting for the button to be visible... You may need to maximize the window')\n",
    "driver.maximize_window()\n",
    "WebDriverWait(driver, timeout=60, poll_frequency=1).until(EC.element_to_be_clickable((By.ID, 'eduGo')))\n",
    "button = driver.find_element(by='id', value='eduGo') # click button to go to page\n",
    "button.click()\n",
    "\n",
    "# Close popup\n",
    "windows = driver.window_handles\n",
    "driver.switch_to.window(windows[1]) # switch to popup window\n",
    "WebDriverWait(driver, timeout=60, poll_frequency=1).until(EC.element_to_be_clickable((By.ID, 'main_popup_0_close')))\n",
    "button = driver.find_element(by='id', value='main_popup_0_close') # click button to go to page\n",
    "button.click()\n",
    "driver.switch_to.window(windows[0]) # switch back after closing\n",
    "\n",
    "# Driver call\n",
    "driver.switch_to.window(driver.window_handles[1]) # switch to other window\n",
    "js = f\"fn_movePage('{page_to_functions['마이페이지']}')\"\n",
    "driver.execute_script(js)\n",
    "\n"
   ]
  },
  {
   "cell_type": "code",
   "execution_count": 5,
   "metadata": {},
   "outputs": [
    {
     "name": "stdout",
     "output_type": "stream",
     "text": [
      "The video is either already open or the page is wrong\n"
     ]
    },
    {
     "ename": "KeyboardInterrupt",
     "evalue": "",
     "output_type": "error",
     "traceback": [
      "\u001b[0;31m---------------------------------------------------------------------------\u001b[0m",
      "\u001b[0;31mKeyboardInterrupt\u001b[0m                         Traceback (most recent call last)",
      "\u001b[1;32m/home/botu/Dev/kaist-safety-course-bot/Debug.ipynb Cell 6'\u001b[0m in \u001b[0;36m<cell line: 1>\u001b[0;34m()\u001b[0m\n\u001b[1;32m      <a href='vscode-notebook-cell:/home/botu/Dev/kaist-safety-course-bot/Debug.ipynb#ch0000005?line=1'>2</a>\u001b[0m     \u001b[39mbreakpoint\u001b[39m()\n\u001b[1;32m      <a href='vscode-notebook-cell:/home/botu/Dev/kaist-safety-course-bot/Debug.ipynb#ch0000005?line=2'>3</a>\u001b[0m     watch_lessons(driver, config[\u001b[39m'\u001b[39m\u001b[39mvideo_id\u001b[39m\u001b[39m'\u001b[39m], config[\u001b[39m'\u001b[39m\u001b[39mmute_video\u001b[39m\u001b[39m'\u001b[39m])\n\u001b[0;32m----> <a href='vscode-notebook-cell:/home/botu/Dev/kaist-safety-course-bot/Debug.ipynb#ch0000005?line=3'>4</a>\u001b[0m     run_quiz(driver)\n\u001b[1;32m      <a href='vscode-notebook-cell:/home/botu/Dev/kaist-safety-course-bot/Debug.ipynb#ch0000005?line=5'>6</a>\u001b[0m \u001b[39mprint\u001b[39m(\u001b[39m'\u001b[39m\u001b[39mDone!\u001b[39m\u001b[39m'\u001b[39m)\n",
      "File \u001b[0;32m~/Dev/kaist-safety-course-bot/kaist/quiz.py:123\u001b[0m, in \u001b[0;36mrun_quiz\u001b[0;34m(driver)\u001b[0m\n\u001b[1;32m    <a href='file:///home/botu/Dev/kaist-safety-course-bot/kaist/quiz.py?line=119'>120</a>\u001b[0m \u001b[39mwhile\u001b[39;00m \u001b[39mnot\u001b[39;00m quiz_is_complete:\n\u001b[1;32m    <a href='file:///home/botu/Dev/kaist-safety-course-bot/kaist/quiz.py?line=120'>121</a>\u001b[0m     \u001b[39m# Adjust answers based on the first quiz\u001b[39;00m\n\u001b[1;32m    <a href='file:///home/botu/Dev/kaist-safety-course-bot/kaist/quiz.py?line=121'>122</a>\u001b[0m     questions_answers \u001b[39m=\u001b[39m adjust_answers(driver, questions_answers)\n\u001b[0;32m--> <a href='file:///home/botu/Dev/kaist-safety-course-bot/kaist/quiz.py?line=122'>123</a>\u001b[0m     click_retry(driver)\n\u001b[1;32m    <a href='file:///home/botu/Dev/kaist-safety-course-bot/kaist/quiz.py?line=124'>125</a>\u001b[0m     \u001b[39m# Re-Input answers\u001b[39;00m\n\u001b[1;32m    <a href='file:///home/botu/Dev/kaist-safety-course-bot/kaist/quiz.py?line=125'>126</a>\u001b[0m     retry_quiz(driver, questions_answers)\n",
      "File \u001b[0;32m~/Dev/kaist-safety-course-bot/kaist/quiz.py:24\u001b[0m, in \u001b[0;36mclick_retry\u001b[0;34m(driver)\u001b[0m\n\u001b[1;32m     <a href='file:///home/botu/Dev/kaist-safety-course-bot/kaist/quiz.py?line=21'>22</a>\u001b[0m \u001b[39mexcept\u001b[39;00m:\n\u001b[1;32m     <a href='file:///home/botu/Dev/kaist-safety-course-bot/kaist/quiz.py?line=22'>23</a>\u001b[0m     \u001b[39mpass\u001b[39;00m\n\u001b[0;32m---> <a href='file:///home/botu/Dev/kaist-safety-course-bot/kaist/quiz.py?line=23'>24</a>\u001b[0m alert_accept(driver)\n",
      "File \u001b[0;32m~/Dev/kaist-safety-course-bot/kaist/common.py:26\u001b[0m, in \u001b[0;36malert_accept\u001b[0;34m(driver, timeout)\u001b[0m\n\u001b[1;32m     <a href='file:///home/botu/Dev/kaist-safety-course-bot/kaist/common.py?line=23'>24</a>\u001b[0m \u001b[39m\"\"\"Accept alert if there is one\"\"\"\u001b[39;00m\n\u001b[1;32m     <a href='file:///home/botu/Dev/kaist-safety-course-bot/kaist/common.py?line=24'>25</a>\u001b[0m \u001b[39mtry\u001b[39;00m:\n\u001b[0;32m---> <a href='file:///home/botu/Dev/kaist-safety-course-bot/kaist/common.py?line=25'>26</a>\u001b[0m     WebDriverWait(driver, timeout)\u001b[39m.\u001b[39;49muntil(EC\u001b[39m.\u001b[39;49malert_is_present(),\n\u001b[1;32m     <a href='file:///home/botu/Dev/kaist-safety-course-bot/kaist/common.py?line=26'>27</a>\u001b[0m                                 \u001b[39m'\u001b[39;49m\u001b[39mTimed out waiting for PA creation \u001b[39;49m\u001b[39m'\u001b[39;49m \u001b[39m+\u001b[39;49m\n\u001b[1;32m     <a href='file:///home/botu/Dev/kaist-safety-course-bot/kaist/common.py?line=27'>28</a>\u001b[0m                                 \u001b[39m'\u001b[39;49m\u001b[39mconfirmation popup to appear.\u001b[39;49m\u001b[39m'\u001b[39;49m)\n\u001b[1;32m     <a href='file:///home/botu/Dev/kaist-safety-course-bot/kaist/common.py?line=29'>30</a>\u001b[0m     alert \u001b[39m=\u001b[39m driver\u001b[39m.\u001b[39mswitch_to\u001b[39m.\u001b[39malert\n\u001b[1;32m     <a href='file:///home/botu/Dev/kaist-safety-course-bot/kaist/common.py?line=30'>31</a>\u001b[0m     alert\u001b[39m.\u001b[39maccept()\n",
      "File \u001b[0;32m~/.local/lib/python3.10/site-packages/selenium/webdriver/support/wait.py:86\u001b[0m, in \u001b[0;36mWebDriverWait.until\u001b[0;34m(self, method, message)\u001b[0m\n\u001b[1;32m     <a href='file:///home/botu/.local/lib/python3.10/site-packages/selenium/webdriver/support/wait.py?line=83'>84</a>\u001b[0m     screen \u001b[39m=\u001b[39m \u001b[39mgetattr\u001b[39m(exc, \u001b[39m'\u001b[39m\u001b[39mscreen\u001b[39m\u001b[39m'\u001b[39m, \u001b[39mNone\u001b[39;00m)\n\u001b[1;32m     <a href='file:///home/botu/.local/lib/python3.10/site-packages/selenium/webdriver/support/wait.py?line=84'>85</a>\u001b[0m     stacktrace \u001b[39m=\u001b[39m \u001b[39mgetattr\u001b[39m(exc, \u001b[39m'\u001b[39m\u001b[39mstacktrace\u001b[39m\u001b[39m'\u001b[39m, \u001b[39mNone\u001b[39;00m)\n\u001b[0;32m---> <a href='file:///home/botu/.local/lib/python3.10/site-packages/selenium/webdriver/support/wait.py?line=85'>86</a>\u001b[0m time\u001b[39m.\u001b[39;49msleep(\u001b[39mself\u001b[39;49m\u001b[39m.\u001b[39;49m_poll)\n\u001b[1;32m     <a href='file:///home/botu/.local/lib/python3.10/site-packages/selenium/webdriver/support/wait.py?line=86'>87</a>\u001b[0m \u001b[39mif\u001b[39;00m time\u001b[39m.\u001b[39mmonotonic() \u001b[39m>\u001b[39m end_time:\n\u001b[1;32m     <a href='file:///home/botu/.local/lib/python3.10/site-packages/selenium/webdriver/support/wait.py?line=87'>88</a>\u001b[0m     \u001b[39mbreak\u001b[39;00m\n",
      "\u001b[0;31mKeyboardInterrupt\u001b[0m: "
     ]
    }
   ],
   "source": [
    "if not check_education_end(driver, config['video_id']):\n",
    "    # breakpoint()\n",
    "    watch_lessons(driver, config['video_id'], config['mute_video'])\n",
    "    run_quiz(driver)\n",
    "\n",
    "print('Done!')"
   ]
  },
  {
   "cell_type": "code",
   "execution_count": 9,
   "metadata": {},
   "outputs": [],
   "source": [
    "save_debug(driver)"
   ]
  }
 ],
 "metadata": {
  "interpreter": {
   "hash": "31f2aee4e71d21fbe5cf8b01ff0e069b9275f58929596ceb00d14d90e3e16cd6"
  },
  "kernelspec": {
   "display_name": "Python 3.10.4 64-bit",
   "language": "python",
   "name": "python3"
  },
  "language_info": {
   "codemirror_mode": {
    "name": "ipython",
    "version": 3
   },
   "file_extension": ".py",
   "mimetype": "text/x-python",
   "name": "python",
   "nbconvert_exporter": "python",
   "pygments_lexer": "ipython3",
   "version": "3.10.4"
  },
  "orig_nbformat": 4
 },
 "nbformat": 4,
 "nbformat_minor": 2
}
